{
 "cells": [
  {
   "cell_type": "code",
   "execution_count": 1,
   "id": "d9b22792",
   "metadata": {},
   "outputs": [
    {
     "name": "stdout",
     "output_type": "stream",
     "text": [
      "WARNING:tensorflow:From C:\\Users\\ameyp\\anaconda3\\Lib\\site-packages\\keras\\src\\losses.py:2976: The name tf.losses.sparse_softmax_cross_entropy is deprecated. Please use tf.compat.v1.losses.sparse_softmax_cross_entropy instead.\n",
      "\n",
      "WARNING:tensorflow:From C:\\Users\\ameyp\\anaconda3\\Lib\\site-packages\\keras\\src\\backend.py:1398: The name tf.executing_eagerly_outside_functions is deprecated. Please use tf.compat.v1.executing_eagerly_outside_functions instead.\n",
      "\n",
      "WARNING:tensorflow:From C:\\Users\\ameyp\\anaconda3\\Lib\\site-packages\\keras\\src\\optimizers\\__init__.py:309: The name tf.train.Optimizer is deprecated. Please use tf.compat.v1.train.Optimizer instead.\n",
      "\n",
      "Epoch 1/10\n",
      "WARNING:tensorflow:From C:\\Users\\ameyp\\anaconda3\\Lib\\site-packages\\keras\\src\\utils\\tf_utils.py:492: The name tf.ragged.RaggedTensorValue is deprecated. Please use tf.compat.v1.ragged.RaggedTensorValue instead.\n",
      "\n",
      "7121/7121 [==============================] - 8s 1ms/step - loss: 0.5399\n",
      "Epoch 2/10\n",
      "7121/7121 [==============================] - 7s 1ms/step - loss: 0.3609\n",
      "Epoch 3/10\n",
      "7121/7121 [==============================] - 7s 1ms/step - loss: 0.3221\n",
      "Epoch 4/10\n",
      "7121/7121 [==============================] - 7s 1ms/step - loss: 0.2873\n",
      "Epoch 5/10\n",
      "7121/7121 [==============================] - 7s 1ms/step - loss: 0.2673\n",
      "Epoch 6/10\n",
      "7121/7121 [==============================] - 7s 1ms/step - loss: 0.2548\n",
      "Epoch 7/10\n",
      "7121/7121 [==============================] - 8s 1ms/step - loss: 0.2479\n",
      "Epoch 8/10\n",
      "7121/7121 [==============================] - 7s 1ms/step - loss: 0.2396\n",
      "Epoch 9/10\n",
      "7121/7121 [==============================] - 7s 1ms/step - loss: 0.2364\n",
      "Epoch 10/10\n",
      "7121/7121 [==============================] - 7s 1ms/step - loss: 0.2321\n",
      "1781/1781 [==============================] - 1s 775us/step\n",
      "Number of Anomalies: 2849\n"
     ]
    }
   ],
   "source": [
    "import numpy as np\n",
    "import pandas as pd\n",
    "import tensorflow as tf\n",
    "from tensorflow import keras\n",
    "from sklearn.model_selection import train_test_split\n",
    "from sklearn.preprocessing import StandardScaler\n",
    "import matplotlib.pyplot as plt\n",
    "\n",
    "# Load the dataset\n",
    "ecg_dataset = pd.read_csv(\"creditcard.csv\")\n",
    "ecg_dataset = ecg_dataset.apply(pd.to_numeric, errors='coerce').dropna()  # Clean non-numeric values\n",
    "\n",
    "# Scale the data\n",
    "scaler = StandardScaler()\n",
    "X = scaler.fit_transform(ecg_dataset.values)\n",
    "\n",
    "# Split data for training and testing\n",
    "X_train, X_test = train_test_split(X, test_size=0.2, random_state=42)\n",
    "\n",
    "# Build the autoencoder model\n",
    "input_dim = X_train.shape[1]\n",
    "encoder = keras.Sequential([\n",
    "    keras.layers.Input(shape=(input_dim,)),\n",
    "    keras.layers.Dense(32, activation='relu'),\n",
    "    keras.layers.Dense(16, activation='relu'),\n",
    "    keras.layers.Dense(8, activation='relu')\n",
    "])\n",
    "\n",
    "decoder = keras.Sequential([\n",
    "    keras.layers.Input(shape=(8,)),\n",
    "    keras.layers.Dense(16, activation='relu'),\n",
    "    keras.layers.Dense(32, activation='relu'),\n",
    "    keras.layers.Dense(input_dim, activation='linear')\n",
    "])\n",
    "\n",
    "autoencoder = keras.Sequential([encoder, decoder])\n",
    "autoencoder.compile(optimizer='adam', loss='mean_squared_error')\n",
    "autoencoder.fit(X_train, X_train, epochs=10, batch_size=32, shuffle=True)\n",
    "\n",
    "# Detect anomalies\n",
    "y_pred = autoencoder.predict(X_test)\n",
    "mse = np.mean(np.square(X_test - y_pred), axis=1)\n",
    "threshold = np.percentile(mse, 95)  # Adjust as needed\n",
    "\n",
    "# Anomaly predictions\n",
    "anomalies = mse > threshold\n",
    "num_anomalies = np.sum(anomalies)\n",
    "print(f\"Number of Anomalies: {num_anomalies}\")"
   ]
  },
  {
   "cell_type": "code",
   "execution_count": 2,
   "id": "378a26cf",
   "metadata": {},
   "outputs": [
    {
     "data": {
      "image/png": "[encoded data removed]",
      "text/plain": [
       "<Figure size 640x480 with 1 Axes>"
      ]
     },
     "metadata": {},
     "output_type": "display_data"
    }
   ],
   "source": [
    "\n",
    "plt.plot(mse, 'o', markersize=3, label='MSE')\n",
    "plt.axhline(threshold, color='r', linestyle='--', label='Threshold')\n",
    "plt.xlabel('Sample')\n",
    "plt.ylabel('MSE')\n",
    "plt.legend()\n",
    "plt.show()"
   ]
  },
  {
   "cell_type": "code",
   "execution_count": 4,
   "id": "13d484f5",
   "metadata": {},
   "outputs": [
    {
     "name": "stdout",
     "output_type": "stream",
     "text": [
      "Confusion Matrix:\n",
      "[[54113     0]\n",
      " [    0  2849]]\n",
      "\n",
      "Classification Report:\n",
      "              precision    recall  f1-score   support\n",
      "\n",
      "       False       1.00      1.00      1.00     54113\n",
      "        True       1.00      1.00      1.00      2849\n",
      "\n",
      "    accuracy                           1.00     56962\n",
      "   macro avg       1.00      1.00      1.00     56962\n",
      "weighted avg       1.00      1.00      1.00     56962\n",
      "\n"
     ]
    }
   ],
   "source": [
    "from sklearn.metrics import confusion_matrix, classification_report\n",
    "# Evaluate the model\n",
    "print(\"Confusion Matrix:\")\n",
    "print(confusion_matrix(anomalies, anomalies))\n",
    "\n",
    "print(\"\\nClassification Report:\")\n",
    "print(classification_report(anomalies, anomalies))"
   ]
  },
  {
   "cell_type": "code",
   "execution_count": null,
   "id": "9f066089",
   "metadata": {},
   "outputs": [],
   "source": []
  }
 ],
 "metadata": {
  "kernelspec": {
   "display_name": "Python 3 (ipykernel)",
   "language": "python",
   "name": "python3"
  },
  "language_info": {
   "codemirror_mode": {
    "name": "ipython",
    "version": 3
   },
   "file_extension": ".py",
   "mimetype": "text/x-python",
   "name": "python",
   "nbconvert_exporter": "python",
   "pygments_lexer": "ipython3",
   "version": "3.11.5"
  }
 },
 "nbformat": 4,
 "nbformat_minor": 5
}
